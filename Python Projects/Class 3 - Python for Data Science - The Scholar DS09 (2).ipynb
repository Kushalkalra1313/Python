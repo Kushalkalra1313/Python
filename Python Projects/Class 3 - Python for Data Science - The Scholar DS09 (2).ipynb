{
 "cells": [
  {
   "cell_type": "code",
   "execution_count": 1,
   "id": "84593791",
   "metadata": {},
   "outputs": [],
   "source": [
    "#Operators in Python \n",
    "#Input and Output statement \n",
    "#Conditional statements "
   ]
  },
  {
   "cell_type": "code",
   "execution_count": 2,
   "id": "8f0f2128",
   "metadata": {},
   "outputs": [],
   "source": [
    "#Operators in Python \n",
    "    #Arithmatic \n",
    "    #Relational or Comparison \n",
    "    #Equality \n",
    "    #Assignment \n",
    "    #Ternary \n",
    "    #special "
   ]
  },
  {
   "cell_type": "code",
   "execution_count": 3,
   "id": "138ada66",
   "metadata": {},
   "outputs": [],
   "source": [
    "#Arithmatic Operators \n",
    "    #+ - Addition \n",
    "    #- - Subtraction \n",
    "    #* - Multiplication\n",
    "    #/ - Division\n",
    "    #% - Modulo ## remainder\n",
    "    #// - Floor division #quotient\n",
    "    #** - Power "
   ]
  },
  {
   "cell_type": "code",
   "execution_count": 7,
   "id": "ea350355",
   "metadata": {
    "scrolled": true
   },
   "outputs": [
    {
     "name": "stdout",
     "output_type": "stream",
     "text": [
      "a+b: 13\n",
      "a-b: 7\n",
      "a*b: 30\n",
      "a/b: 3.3333333333333335\n",
      "a%b: 1\n",
      "a//b: 3\n",
      "a**b: 1000\n"
     ]
    }
   ],
   "source": [
    "a = 10 \n",
    "b = 3\n",
    "print('a+b:',a+b)\n",
    "print('a-b:',a-b)\n",
    "print('a*b:',a*b)\n",
    "print('a/b:',a/b)\n",
    "print('a%b:',a%b)\n",
    "print('a//b:',a//b)\n",
    "print('a**b:',a**b)"
   ]
  },
  {
   "cell_type": "code",
   "execution_count": 4,
   "id": "b8a6020c",
   "metadata": {
    "scrolled": true
   },
   "outputs": [
    {
     "name": "stdout",
     "output_type": "stream",
     "text": [
      "15\n",
      "5\n"
     ]
    }
   ],
   "source": [
    "a=10\n",
    "b=5\n",
    "print(a+b)\n",
    "print(a-b)"
   ]
  },
  {
   "cell_type": "code",
   "execution_count": 8,
   "id": "eff8cd1f",
   "metadata": {},
   "outputs": [
    {
     "name": "stdout",
     "output_type": "stream",
     "text": [
      "a+b: 15\n",
      "a-b: 5\n"
     ]
    }
   ],
   "source": [
    "a=10\n",
    "b=5\n",
    "print('a+b:',a+b)\n",
    "print('a-b:',a-b)"
   ]
  },
  {
   "cell_type": "code",
   "execution_count": 9,
   "id": "72f8eeea",
   "metadata": {},
   "outputs": [
    {
     "ename": "TypeError",
     "evalue": "can only concatenate str (not \"int\") to str",
     "output_type": "error",
     "traceback": [
      "\u001b[1;31m---------------------------------------------------------------------------\u001b[0m",
      "\u001b[1;31mTypeError\u001b[0m                                 Traceback (most recent call last)",
      "\u001b[1;32m~\\AppData\\Local\\Temp\\ipykernel_14956\\154506873.py\u001b[0m in \u001b[0;36m<module>\u001b[1;34m\u001b[0m\n\u001b[1;32m----> 1\u001b[1;33m \u001b[1;34m'10'\u001b[0m\u001b[1;33m+\u001b[0m\u001b[1;36m10\u001b[0m\u001b[1;33m\u001b[0m\u001b[1;33m\u001b[0m\u001b[0m\n\u001b[0m",
      "\u001b[1;31mTypeError\u001b[0m: can only concatenate str (not \"int\") to str"
     ]
    }
   ],
   "source": [
    "'10'+10          #string and integers can't be added so we have to typecast the string, make it as a integer"
   ]
  },
  {
   "cell_type": "code",
   "execution_count": 10,
   "id": "90f88fec",
   "metadata": {},
   "outputs": [
    {
     "data": {
      "text/plain": [
       "'1020'"
      ]
     },
     "execution_count": 10,
     "metadata": {},
     "output_type": "execute_result"
    }
   ],
   "source": [
    "'10'+'20'    # string plus string will be concatenation"
   ]
  },
  {
   "cell_type": "code",
   "execution_count": 16,
   "id": "c08ec6b5",
   "metadata": {},
   "outputs": [
    {
     "data": {
      "text/plain": [
       "20"
      ]
     },
     "execution_count": 16,
     "metadata": {},
     "output_type": "execute_result"
    }
   ],
   "source": [
    "int('10') + 10"
   ]
  },
  {
   "cell_type": "code",
   "execution_count": 17,
   "id": "8b434870",
   "metadata": {},
   "outputs": [
    {
     "data": {
      "text/plain": [
       "'1020'"
      ]
     },
     "execution_count": 17,
     "metadata": {},
     "output_type": "execute_result"
    }
   ],
   "source": [
    "'10' + '20'"
   ]
  },
  {
   "cell_type": "code",
   "execution_count": 19,
   "id": "2c09b03e",
   "metadata": {
    "scrolled": true
   },
   "outputs": [
    {
     "name": "stdout",
     "output_type": "stream",
     "text": [
      "a<b: True\n",
      "a>b: False\n",
      "a>=b: False\n",
      "a<=b: True\n"
     ]
    }
   ],
   "source": [
    "#Relation or Comparison \n",
    "a = 10 \n",
    "b = 20\n",
    "\n",
    "print('a<b:',a<b)\n",
    "print('a>b:',a>b)\n",
    "print('a>=b:',a>=b)\n",
    "print('a<=b:',a<=b)"
   ]
  },
  {
   "cell_type": "code",
   "execution_count": 2,
   "id": "e815da89",
   "metadata": {
    "scrolled": true
   },
   "outputs": [
    {
     "name": "stdout",
     "output_type": "stream",
     "text": [
      "a<b: True\n"
     ]
    }
   ],
   "source": [
    "a = 10 \n",
    "b = 20\n",
    "\n",
    "print('a<b:',a<b)"
   ]
  },
  {
   "cell_type": "code",
   "execution_count": 1,
   "id": "9b5dc3ef",
   "metadata": {},
   "outputs": [
    {
     "name": "stdout",
     "output_type": "stream",
     "text": [
      "a<b: True\n"
     ]
    }
   ],
   "source": [
    "a = 10 \n",
    "b = 20\n",
    "\n",
    "print('a<b:',a<b)"
   ]
  },
  {
   "cell_type": "code",
   "execution_count": null,
   "id": "c7ffa7f7",
   "metadata": {},
   "outputs": [],
   "source": []
  },
  {
   "cell_type": "code",
   "execution_count": null,
   "id": "c1680354",
   "metadata": {},
   "outputs": [],
   "source": []
  },
  {
   "cell_type": "code",
   "execution_count": 14,
   "id": "5bfafc20",
   "metadata": {},
   "outputs": [
    {
     "name": "stdout",
     "output_type": "stream",
     "text": [
      "False\n",
      "True\n"
     ]
    }
   ],
   "source": [
    "#Equality Operator \n",
    "a = 10 \n",
    "b = 20                         # single = is for the assignment , it is for assign the values.when we have to compare then \n",
    "\n",
    "print(a == b)\n",
    "print(a!=b)"
   ]
  },
  {
   "cell_type": "code",
   "execution_count": 23,
   "id": "af9d954a",
   "metadata": {},
   "outputs": [
    {
     "data": {
      "text/plain": [
       "10"
      ]
     },
     "execution_count": 23,
     "metadata": {},
     "output_type": "execute_result"
    }
   ],
   "source": [
    "a"
   ]
  },
  {
   "cell_type": "code",
   "execution_count": 20,
   "id": "fbd727b5",
   "metadata": {},
   "outputs": [
    {
     "name": "stdout",
     "output_type": "stream",
     "text": [
      "True\n"
     ]
    }
   ],
   "source": [
    "a = 10 \n",
    "b = 20                         # single equal to (=) is for the assignment , it is for assign the values.when we have to compare then \n",
    "\n",
    "\n",
    "print(a!=b)"
   ]
  },
  {
   "cell_type": "code",
   "execution_count": 18,
   "id": "0a6e9ac2",
   "metadata": {},
   "outputs": [],
   "source": [
    "a = 10 \n",
    "b = 20                         \n",
    "a = b\n"
   ]
  },
  {
   "cell_type": "code",
   "execution_count": 19,
   "id": "57477aba",
   "metadata": {},
   "outputs": [
    {
     "data": {
      "text/plain": [
       "20"
      ]
     },
     "execution_count": 19,
     "metadata": {},
     "output_type": "execute_result"
    }
   ],
   "source": [
    "a  # if we wont pass double equal then it will take b value but we want to compare a with b either they are equal or not"
   ]
  },
  {
   "cell_type": "code",
   "execution_count": 24,
   "id": "572c0e93",
   "metadata": {},
   "outputs": [
    {
     "data": {
      "text/plain": [
       "30"
      ]
     },
     "execution_count": 24,
     "metadata": {},
     "output_type": "execute_result"
    }
   ],
   "source": [
    "#Ternary Operator \n",
    "x = 10 if 10>20 else 30              # if condition is true then it will go to left side value otherwsie it will move to right\n",
    "#in this case it is not true so it will take 30(will go in right) as value\n",
    "x"
   ]
  },
  {
   "cell_type": "code",
   "execution_count": 27,
   "id": "858b271d",
   "metadata": {},
   "outputs": [
    {
     "data": {
      "text/plain": [
       "5"
      ]
     },
     "execution_count": 27,
     "metadata": {},
     "output_type": "execute_result"
    }
   ],
   "source": [
    "a = 7\n",
    "b = 4              # fail hone pe right mai jana h , pass hone pe left m jana h\n",
    "c = 5\n",
    "\n",
    "x = a if a>b>c else b if b>c else c\n",
    "x"
   ]
  },
  {
   "cell_type": "code",
   "execution_count": 27,
   "id": "a2881bcb",
   "metadata": {},
   "outputs": [
    {
     "data": {
      "text/plain": [
       "10"
      ]
     },
     "execution_count": 27,
     "metadata": {},
     "output_type": "execute_result"
    }
   ],
   "source": [
    "a = 7\n",
    "b = 4\n",
    "c = 10\n",
    "\n",
    "x = a if a>b and a>c else b if b>c else c\n",
    "x"
   ]
  },
  {
   "cell_type": "code",
   "execution_count": 25,
   "id": "44b1fd29",
   "metadata": {},
   "outputs": [
    {
     "data": {
      "text/plain": [
       "7"
      ]
     },
     "execution_count": 25,
     "metadata": {},
     "output_type": "execute_result"
    }
   ],
   "source": [
    "a = 7\n",
    "b = 4\n",
    "c = 10\n",
    "\n",
    "x = a if a>b or a>c else b if b>c else c\n",
    "x"
   ]
  },
  {
   "cell_type": "code",
   "execution_count": 29,
   "id": "67697cfa",
   "metadata": {},
   "outputs": [
    {
     "data": {
      "text/plain": [
       "20"
      ]
     },
     "execution_count": 29,
     "metadata": {},
     "output_type": "execute_result"
    }
   ],
   "source": [
    "#Assignment Operator \n",
    "a = 10 \n",
    "a +=30           # a+=30 means a=a+30 so 10+30=40 then a=a-20 then 40-20=20 will come. \n",
    "                 #creating the variable a and assinging the value as 10 in first statement.\n",
    "a -=20\n",
    "a"
   ]
  },
  {
   "cell_type": "code",
   "execution_count": 33,
   "id": "30837102",
   "metadata": {},
   "outputs": [],
   "source": [
    "#Special Operators \n",
    "    #Identity Operators \n",
    "        #is \n",
    "        #is not\n",
    "    #Membership Operators\n",
    "        #in \n",
    "        #not in"
   ]
  },
  {
   "cell_type": "code",
   "execution_count": 39,
   "id": "fe09fb03",
   "metadata": {
    "scrolled": true
   },
   "outputs": [
    {
     "name": "stdout",
     "output_type": "stream",
     "text": [
      "2261594958416\n",
      "2261594958416\n"
     ]
    }
   ],
   "source": [
    "a = 10 \n",
    "b = 10 \n",
    "\n",
    "a is b\n",
    "print(id(a))\n",
    "print(id(b))"
   ]
  },
  {
   "cell_type": "code",
   "execution_count": 33,
   "id": "460528bc",
   "metadata": {
    "scrolled": true
   },
   "outputs": [
    {
     "name": "stdout",
     "output_type": "stream",
     "text": [
      "2159944624720\n",
      "2159944624720\n"
     ]
    }
   ],
   "source": [
    "a = 10 \n",
    "b = 10 \n",
    "\n",
    "a is b\n",
    "print(id(a))\n",
    "print(id(b))"
   ]
  },
  {
   "cell_type": "code",
   "execution_count": 38,
   "id": "61a32509",
   "metadata": {},
   "outputs": [
    {
     "data": {
      "text/plain": [
       "True"
      ]
     },
     "execution_count": 38,
     "metadata": {},
     "output_type": "execute_result"
    }
   ],
   "source": [
    "a=10\n",
    "b=10\n",
    "a is b"
   ]
  },
  {
   "cell_type": "code",
   "execution_count": 39,
   "id": "43386311",
   "metadata": {},
   "outputs": [
    {
     "data": {
      "text/plain": [
       "True"
      ]
     },
     "execution_count": 39,
     "metadata": {},
     "output_type": "execute_result"
    }
   ],
   "source": [
    "a=-1\n",
    "b=-1\n",
    "a is b"
   ]
  },
  {
   "cell_type": "code",
   "execution_count": 41,
   "id": "82c5947e",
   "metadata": {},
   "outputs": [
    {
     "data": {
      "text/plain": [
       "False"
      ]
     },
     "execution_count": 41,
     "metadata": {},
     "output_type": "execute_result"
    }
   ],
   "source": [
    "a=-10         # everything runs on the RAM, puthon always generate the nos starting from -5 to 256 only.\n",
    "b=-10         #nos coming in this range is having same memory location thats why true is coming\n",
    "a is b"
   ]
  },
  {
   "cell_type": "code",
   "execution_count": 3,
   "id": "2477e119",
   "metadata": {},
   "outputs": [
    {
     "data": {
      "text/plain": [
       "True"
      ]
     },
     "execution_count": 3,
     "metadata": {},
     "output_type": "execute_result"
    }
   ],
   "source": [
    "a=100       \n",
    "b=100\n",
    "a is b\n"
   ]
  },
  {
   "cell_type": "code",
   "execution_count": 4,
   "id": "1a06571e",
   "metadata": {},
   "outputs": [
    {
     "data": {
      "text/plain": [
       "True"
      ]
     },
     "execution_count": 4,
     "metadata": {},
     "output_type": "execute_result"
    }
   ],
   "source": [
    "a=100       \n",
    "b=100\n",
    "a is b\n"
   ]
  },
  {
   "cell_type": "code",
   "execution_count": null,
   "id": "36963adb",
   "metadata": {},
   "outputs": [],
   "source": [
    "a=100\n",
    "b=100\n",
    "a is b"
   ]
  },
  {
   "cell_type": "code",
   "execution_count": 5,
   "id": "27ceecc0",
   "metadata": {},
   "outputs": [
    {
     "data": {
      "text/plain": [
       "True"
      ]
     },
     "execution_count": 5,
     "metadata": {},
     "output_type": "execute_result"
    }
   ],
   "source": [
    "a=-5\n",
    "b=-5                     #if membership location is same then it will true otherwise false\n",
    "a is b"
   ]
  },
  {
   "cell_type": "code",
   "execution_count": 43,
   "id": "8b0e3f66",
   "metadata": {
    "scrolled": true
   },
   "outputs": [
    {
     "data": {
      "text/plain": [
       "False"
      ]
     },
     "execution_count": 43,
     "metadata": {},
     "output_type": "execute_result"
    }
   ],
   "source": [
    "a=257\n",
    "b=257             # outside the range so does not have same memory location so false is coming\n",
    "a is b"
   ]
  },
  {
   "cell_type": "code",
   "execution_count": 46,
   "id": "c3177361",
   "metadata": {},
   "outputs": [
    {
     "data": {
      "text/plain": [
       "False"
      ]
     },
     "execution_count": 46,
     "metadata": {},
     "output_type": "execute_result"
    }
   ],
   "source": [
    "a=240.5\n",
    "b=240.5            # between 240 & 241 there are infinite nos so its true for whole integers only, large memory for\n",
    "a is b              # storing thes einfinite values."
   ]
  },
  {
   "cell_type": "code",
   "execution_count": 34,
   "id": "9ee95657",
   "metadata": {},
   "outputs": [
    {
     "name": "stdout",
     "output_type": "stream",
     "text": [
      "2159944816080\n",
      "2159944816080\n"
     ]
    }
   ],
   "source": [
    "a = 100\n",
    "b = 100\n",
    "a is b \n",
    "print(id(a))\n",
    "print(id(b))"
   ]
  },
  {
   "cell_type": "code",
   "execution_count": 41,
   "id": "448a30b6",
   "metadata": {
    "scrolled": true
   },
   "outputs": [
    {
     "name": "stdout",
     "output_type": "stream",
     "text": [
      "2261716087216\n",
      "2261716087376\n"
     ]
    }
   ],
   "source": [
    "a = 300\n",
    "b = 300 \n",
    "a is b \n",
    "print(id(a))\n",
    "print(id(b))"
   ]
  },
  {
   "cell_type": "code",
   "execution_count": 42,
   "id": "8539a8e9",
   "metadata": {},
   "outputs": [
    {
     "name": "stdout",
     "output_type": "stream",
     "text": [
      "2261594958064\n",
      "2261594958064\n"
     ]
    }
   ],
   "source": [
    "a=-1\n",
    "b =-1\n",
    "a is b\n",
    "print(id(a))\n",
    "print(id(b))"
   ]
  },
  {
   "cell_type": "code",
   "execution_count": 6,
   "id": "d9b11535",
   "metadata": {},
   "outputs": [
    {
     "name": "stdout",
     "output_type": "stream",
     "text": [
      "2757503939600\n",
      "2757503939280\n"
     ]
    }
   ],
   "source": [
    "a = 257\n",
    "b = 257\n",
    "a is b \n",
    "print(id(a))\n",
    "print(id(b))"
   ]
  },
  {
   "cell_type": "code",
   "execution_count": 48,
   "id": "bb7c9951",
   "metadata": {
    "scrolled": true
   },
   "outputs": [
    {
     "name": "stdout",
     "output_type": "stream",
     "text": [
      "2261716086928\n",
      "2261716087472\n"
     ]
    }
   ],
   "source": [
    "a = 240.5\n",
    "b = 240.5\n",
    "a is b \n",
    "print(id(a))\n",
    "print(id(b))"
   ]
  },
  {
   "cell_type": "code",
   "execution_count": null,
   "id": "7b3b681a",
   "metadata": {},
   "outputs": [],
   "source": [
    "# membership operator"
   ]
  },
  {
   "cell_type": "code",
   "execution_count": 49,
   "id": "f6c29694",
   "metadata": {},
   "outputs": [
    {
     "data": {
      "text/plain": [
       "True"
      ]
     },
     "execution_count": 49,
     "metadata": {},
     "output_type": "execute_result"
    }
   ],
   "source": [
    "l = ['a','b','c','d']         # a is a member of l yes it is\n",
    "'a' in l"
   ]
  },
  {
   "cell_type": "code",
   "execution_count": 51,
   "id": "3ba146ff",
   "metadata": {},
   "outputs": [],
   "source": [
    "#Input and Output statements"
   ]
  },
  {
   "cell_type": "code",
   "execution_count": 52,
   "id": "610d91cd",
   "metadata": {},
   "outputs": [],
   "source": [
    "a = 10 \n",
    "b = 20"
   ]
  },
  {
   "cell_type": "code",
   "execution_count": 2,
   "id": "58f6b9ae",
   "metadata": {
    "scrolled": true
   },
   "outputs": [
    {
     "name": "stdout",
     "output_type": "stream",
     "text": [
      "enter your age:34\n"
     ]
    }
   ],
   "source": [
    "age= input(\"enter your age:\")"
   ]
  },
  {
   "cell_type": "code",
   "execution_count": 4,
   "id": "d859d0af",
   "metadata": {
    "scrolled": false
   },
   "outputs": [
    {
     "data": {
      "text/plain": [
       "'25'"
      ]
     },
     "execution_count": 4,
     "metadata": {},
     "output_type": "execute_result"
    }
   ],
   "source": [
    "age"
   ]
  },
  {
   "cell_type": "code",
   "execution_count": 9,
   "id": "3ef28268",
   "metadata": {
    "scrolled": true
   },
   "outputs": [
    {
     "data": {
      "text/plain": [
       "str"
      ]
     },
     "execution_count": 9,
     "metadata": {},
     "output_type": "execute_result"
    }
   ],
   "source": [
    "type(age)"
   ]
  },
  {
   "cell_type": "code",
   "execution_count": 10,
   "id": "1544f16b",
   "metadata": {},
   "outputs": [
    {
     "name": "stdout",
     "output_type": "stream",
     "text": [
      "enter your age36.5\n"
     ]
    }
   ],
   "source": [
    "age= input('enter your age')"
   ]
  },
  {
   "cell_type": "code",
   "execution_count": 11,
   "id": "de8dcac7",
   "metadata": {},
   "outputs": [
    {
     "data": {
      "text/plain": [
       "'36.5'"
      ]
     },
     "execution_count": 11,
     "metadata": {},
     "output_type": "execute_result"
    }
   ],
   "source": [
    "age"
   ]
  },
  {
   "cell_type": "code",
   "execution_count": 12,
   "id": "f9bad45d",
   "metadata": {},
   "outputs": [
    {
     "data": {
      "text/plain": [
       "str"
      ]
     },
     "execution_count": 12,
     "metadata": {},
     "output_type": "execute_result"
    }
   ],
   "source": [
    "type(age)        # input command always give type as STRING (36 is interger and 36.5 is float)"
   ]
  },
  {
   "cell_type": "code",
   "execution_count": 13,
   "id": "e809f6d1",
   "metadata": {
    "scrolled": true
   },
   "outputs": [
    {
     "name": "stdout",
     "output_type": "stream",
     "text": [
      "enter your age36.5\n"
     ]
    },
    {
     "ename": "ValueError",
     "evalue": "invalid literal for int() with base 10: '36.5'",
     "output_type": "error",
     "traceback": [
      "\u001b[1;31m---------------------------------------------------------------------------\u001b[0m",
      "\u001b[1;31mValueError\u001b[0m                                Traceback (most recent call last)",
      "\u001b[1;32m~\\AppData\\Local\\Temp\\ipykernel_13764\\729568959.py\u001b[0m in \u001b[0;36m<module>\u001b[1;34m\u001b[0m\n\u001b[1;32m----> 1\u001b[1;33m \u001b[0mage\u001b[0m\u001b[1;33m=\u001b[0m \u001b[0mint\u001b[0m\u001b[1;33m(\u001b[0m\u001b[0minput\u001b[0m\u001b[1;33m(\u001b[0m\u001b[1;34m'enter your age'\u001b[0m\u001b[1;33m)\u001b[0m\u001b[1;33m)\u001b[0m               \u001b[1;31m# we are passing float but we are giving integer thats y it is giving errror\u001b[0m\u001b[1;33m\u001b[0m\u001b[1;33m\u001b[0m\u001b[0m\n\u001b[0m\u001b[0;32m      2\u001b[0m                                                 \u001b[1;31m# int will always before the input only\u001b[0m\u001b[1;33m\u001b[0m\u001b[1;33m\u001b[0m\u001b[0m\n",
      "\u001b[1;31mValueError\u001b[0m: invalid literal for int() with base 10: '36.5'"
     ]
    }
   ],
   "source": [
    "age= int(input('enter your age'))               # we are passing float but we are giving integer thats y it is giving errror\n",
    "                                                # int will always before the input only"
   ]
  },
  {
   "cell_type": "code",
   "execution_count": 1,
   "id": "3ea5acba",
   "metadata": {},
   "outputs": [
    {
     "name": "stdout",
     "output_type": "stream",
     "text": [
      "enter your age36\n"
     ]
    }
   ],
   "source": [
    "age= int(input('enter your age'))"
   ]
  },
  {
   "cell_type": "code",
   "execution_count": 2,
   "id": "8728a33c",
   "metadata": {},
   "outputs": [
    {
     "data": {
      "text/plain": [
       "36"
      ]
     },
     "execution_count": 2,
     "metadata": {},
     "output_type": "execute_result"
    }
   ],
   "source": [
    "age"
   ]
  },
  {
   "cell_type": "code",
   "execution_count": 16,
   "id": "5114a5a5",
   "metadata": {},
   "outputs": [
    {
     "data": {
      "text/plain": [
       "int"
      ]
     },
     "execution_count": 16,
     "metadata": {},
     "output_type": "execute_result"
    }
   ],
   "source": [
    "type(age)"
   ]
  },
  {
   "cell_type": "code",
   "execution_count": 55,
   "id": "dc40c572",
   "metadata": {},
   "outputs": [
    {
     "data": {
      "text/plain": [
       "36"
      ]
     },
     "execution_count": 55,
     "metadata": {},
     "output_type": "execute_result"
    }
   ],
   "source": [
    "age"
   ]
  },
  {
   "cell_type": "code",
   "execution_count": 17,
   "id": "c8de789d",
   "metadata": {},
   "outputs": [
    {
     "name": "stdout",
     "output_type": "stream",
     "text": [
      "Enter your age: 36.5\n"
     ]
    }
   ],
   "source": [
    "age = float(input('Enter your age: '))           # some times we get raw before the input in python 2, in pyhton 3 \n",
    "                                                #raw is not there"
   ]
  },
  {
   "cell_type": "code",
   "execution_count": 18,
   "id": "e1c1c639",
   "metadata": {},
   "outputs": [
    {
     "data": {
      "text/plain": [
       "float"
      ]
     },
     "execution_count": 18,
     "metadata": {},
     "output_type": "execute_result"
    }
   ],
   "source": [
    "type(age)"
   ]
  },
  {
   "cell_type": "code",
   "execution_count": 19,
   "id": "99649c16",
   "metadata": {},
   "outputs": [
    {
     "data": {
      "text/plain": [
       "36.5"
      ]
     },
     "execution_count": 19,
     "metadata": {},
     "output_type": "execute_result"
    }
   ],
   "source": [
    "age"
   ]
  },
  {
   "cell_type": "code",
   "execution_count": 20,
   "id": "ba5812df",
   "metadata": {
    "scrolled": true
   },
   "outputs": [
    {
     "name": "stdout",
     "output_type": "stream",
     "text": [
      "Hi\n",
      "\n",
      "Hello\n"
     ]
    }
   ],
   "source": [
    "print('Hi')\n",
    "print()\n",
    "print('Hello')"
   ]
  },
  {
   "cell_type": "code",
   "execution_count": 22,
   "id": "406a2bc3",
   "metadata": {},
   "outputs": [
    {
     "name": "stdout",
     "output_type": "stream",
     "text": [
      "Hi kushal\n",
      "\n",
      "hi neha\n"
     ]
    }
   ],
   "source": [
    "print ('Hi kushal')\n",
    "print ()\n",
    "print('hi neha')"
   ]
  },
  {
   "cell_type": "code",
   "execution_count": 23,
   "id": "d880c38d",
   "metadata": {},
   "outputs": [
    {
     "name": "stdout",
     "output_type": "stream",
     "text": [
      "Hi kushal\n",
      "hi neha\n"
     ]
    }
   ],
   "source": [
    "print ('Hi kushal')\n",
    "#print ()\n",
    "print('hi neha')"
   ]
  },
  {
   "cell_type": "code",
   "execution_count": 24,
   "id": "60b5d771",
   "metadata": {
    "scrolled": true
   },
   "outputs": [
    {
     "name": "stdout",
     "output_type": "stream",
     "text": [
      "Hello\n",
      "all\n"
     ]
    }
   ],
   "source": [
    "print('Hello\\nall')       # \\n is basically new line character , after hello go to the next line then print all"
   ]
  },
  {
   "cell_type": "code",
   "execution_count": 25,
   "id": "264496ad",
   "metadata": {},
   "outputs": [
    {
     "name": "stdout",
     "output_type": "stream",
     "text": [
      "Helloall\n"
     ]
    }
   ],
   "source": [
    "print('Helloall') "
   ]
  },
  {
   "cell_type": "code",
   "execution_count": 73,
   "id": "5b918f95",
   "metadata": {
    "scrolled": true
   },
   "outputs": [
    {
     "name": "stdout",
     "output_type": "stream",
     "text": [
      "Hello\tall\n"
     ]
    }
   ],
   "source": [
    "print('Hello\\tall')         # \\t is tab saperator"
   ]
  },
  {
   "cell_type": "code",
   "execution_count": 26,
   "id": "974f7c95",
   "metadata": {},
   "outputs": [],
   "source": [
    "a=10\n",
    "b=20\n",
    "c=30"
   ]
  },
  {
   "cell_type": "code",
   "execution_count": 27,
   "id": "65a20ee1",
   "metadata": {},
   "outputs": [],
   "source": [
    "a,b,c = 100,200,300"
   ]
  },
  {
   "cell_type": "code",
   "execution_count": 28,
   "id": "4c399f67",
   "metadata": {},
   "outputs": [
    {
     "data": {
      "text/plain": [
       "100"
      ]
     },
     "execution_count": 28,
     "metadata": {},
     "output_type": "execute_result"
    }
   ],
   "source": [
    "a"
   ]
  },
  {
   "cell_type": "code",
   "execution_count": 29,
   "id": "e4e7f982",
   "metadata": {},
   "outputs": [
    {
     "data": {
      "text/plain": [
       "200"
      ]
     },
     "execution_count": 29,
     "metadata": {},
     "output_type": "execute_result"
    }
   ],
   "source": [
    "b"
   ]
  },
  {
   "cell_type": "code",
   "execution_count": 30,
   "id": "c333abf5",
   "metadata": {},
   "outputs": [
    {
     "data": {
      "text/plain": [
       "300"
      ]
     },
     "execution_count": 30,
     "metadata": {},
     "output_type": "execute_result"
    }
   ],
   "source": [
    "c"
   ]
  },
  {
   "cell_type": "code",
   "execution_count": 31,
   "id": "bbada6cf",
   "metadata": {
    "scrolled": true
   },
   "outputs": [
    {
     "name": "stdout",
     "output_type": "stream",
     "text": [
      "100$200$300\n"
     ]
    }
   ],
   "source": [
    "print(a,b,c,sep='$')   # SEP  is used to saperate the values with anything u want"
   ]
  },
  {
   "cell_type": "code",
   "execution_count": 32,
   "id": "29d1d56d",
   "metadata": {},
   "outputs": [
    {
     "name": "stdout",
     "output_type": "stream",
     "text": [
      "100%%200%%300\n"
     ]
    }
   ],
   "source": [
    "print(a,b,c,sep='%%')"
   ]
  },
  {
   "cell_type": "code",
   "execution_count": 42,
   "id": "c4b5132c",
   "metadata": {
    "scrolled": true
   },
   "outputs": [
    {
     "name": "stdout",
     "output_type": "stream",
     "text": [
      "Hello Students Hope you are liking Python\n"
     ]
    }
   ],
   "source": [
    "print('Hello',end=' ')                  # want to give threee statement but want one output only  \n",
    "print('Students',end=' ')\n",
    "print('Hope you are liking Python')"
   ]
  },
  {
   "cell_type": "code",
   "execution_count": 4,
   "id": "7cf10a1b",
   "metadata": {},
   "outputs": [
    {
     "name": "stdout",
     "output_type": "stream",
     "text": [
      "Hello Students Hope you are liking Python\n"
     ]
    }
   ],
   "source": [
    "print('Hello',end=' ')                  # want to give threee staement but want one output only  \n",
    "print('Students',end=' ')\n",
    "print('Hope you are liking Python')"
   ]
  },
  {
   "cell_type": "code",
   "execution_count": 5,
   "id": "e776eed5",
   "metadata": {},
   "outputs": [
    {
     "name": "stdout",
     "output_type": "stream",
     "text": [
      "Hello\n",
      "Students\n",
      "Hope you are liking Python\n"
     ]
    }
   ],
   "source": [
    "print('Hello',end='\\n')                  # want to give threee statement but want one output only  \n",
    "print('Students',end='\\n')\n",
    "print('Hope you are liking Python', end='\\n')"
   ]
  },
  {
   "cell_type": "code",
   "execution_count": 33,
   "id": "c389055b",
   "metadata": {},
   "outputs": [
    {
     "name": "stdout",
     "output_type": "stream",
     "text": [
      "Hello\n",
      "Students\n",
      "Hope you are liking Python\n"
     ]
    }
   ],
   "source": [
    "print('Hello')\n",
    "print('Students')\n",
    "print('Hope you are liking Python')"
   ]
  },
  {
   "cell_type": "code",
   "execution_count": 34,
   "id": "c33167ec",
   "metadata": {},
   "outputs": [
    {
     "name": "stdout",
     "output_type": "stream",
     "text": [
      "Hello Students Hope you are liking Python\n"
     ]
    }
   ],
   "source": [
    "print('Hello Students Hope you are liking Python')"
   ]
  },
  {
   "cell_type": "code",
   "execution_count": 50,
   "id": "13f1cf10",
   "metadata": {},
   "outputs": [],
   "source": [
    "name = 'Kushal'\n",
    "salary = 10000\n",
    "company = 'Mcdermott'"
   ]
  },
  {
   "cell_type": "code",
   "execution_count": 51,
   "id": "340e89a3",
   "metadata": {
    "scrolled": true
   },
   "outputs": [
    {
     "name": "stdout",
     "output_type": "stream",
     "text": [
      "Hello Kushal your salary is 10000 your company is Mcdermott\n"
     ]
    }
   ],
   "source": [
    "print('Hello', name, 'your salary is', salary, 'your company is', company)"
   ]
  },
  {
   "cell_type": "code",
   "execution_count": 57,
   "id": "d71cab15",
   "metadata": {},
   "outputs": [
    {
     "name": "stdout",
     "output_type": "stream",
     "text": [
      "Hello {} your salary is {} and your company is {}\n"
     ]
    }
   ],
   "source": [
    "print('Hello {} your salary is {} and your company is {}')   # in next step format denge in tuple with normal bracket"
   ]
  },
  {
   "cell_type": "code",
   "execution_count": 52,
   "id": "458fe186",
   "metadata": {
    "scrolled": true
   },
   "outputs": [
    {
     "name": "stdout",
     "output_type": "stream",
     "text": [
      "Hello Kushal your salary is 10000 and your company is Mcdermott\n"
     ]
    }
   ],
   "source": [
    "print('Hello {1} your salary is {2} and your company is {0}'.format(company, name, salary))"
   ]
  },
  {
   "cell_type": "code",
   "execution_count": 60,
   "id": "ab2aa549",
   "metadata": {},
   "outputs": [
    {
     "name": "stdout",
     "output_type": "stream",
     "text": [
      "Hello Kushal your salary is 10000 and your company is Mcdermott\n"
     ]
    }
   ],
   "source": [
    "print('Hello {} your salary is {} and your company is {}'.format(name, salary, company))   # first tupple will go to ist\n",
    "                                                                                           # 2nd will go to 2nd "
   ]
  },
  {
   "cell_type": "code",
   "execution_count": 54,
   "id": "86b6ea4c",
   "metadata": {
    "scrolled": true
   },
   "outputs": [
    {
     "name": "stdout",
     "output_type": "stream",
     "text": [
      "Hello Mcdermott your salary is Kushal and your company is 10000\n"
     ]
    }
   ],
   "source": [
    "print('Hello {} your salary is {} and your company is {}'.format(company, name, salary))    # wrong a rha h output"
   ]
  },
  {
   "cell_type": "code",
   "execution_count": 61,
   "id": "662e418c",
   "metadata": {},
   "outputs": [
    {
     "name": "stdout",
     "output_type": "stream",
     "text": [
      "Hello Kushal your salary is 10000 and your company is Mcdermott\n"
     ]
    }
   ],
   "source": [
    "print('Hello {1} your salary is {2} and your company is {0}'.format(company, name, salary))"
   ]
  },
  {
   "cell_type": "code",
   "execution_count": 63,
   "id": "68b852b8",
   "metadata": {},
   "outputs": [
    {
     "name": "stdout",
     "output_type": "stream",
     "text": [
      "Hello Kushal your salary is 10000 and your company is Mcdermott\n"
     ]
    }
   ],
   "source": [
    "print('Hello {n} your salary is {s} and your company is {c}'.format(c=company, n=name, s=salary))  # agar sequence nhi hoga\n",
    "                                                                                                  # den index we have to give"
   ]
  },
  {
   "cell_type": "code",
   "execution_count": 93,
   "id": "360acbdd",
   "metadata": {},
   "outputs": [],
   "source": [
    "#Conditional Statements----VERY IMPORTANT"
   ]
  },
  {
   "cell_type": "code",
   "execution_count": 94,
   "id": "ff38b50c",
   "metadata": {},
   "outputs": [],
   "source": [
    "#if else \n",
    "#for \n",
    "#while"
   ]
  },
  {
   "cell_type": "code",
   "execution_count": 3,
   "id": "80fd8d9f",
   "metadata": {
    "scrolled": false
   },
   "outputs": [
    {
     "name": "stdout",
     "output_type": "stream",
     "text": [
      "Enter the marks you got: 45\n",
      "You passed the exam\n",
      "e\n"
     ]
    }
   ],
   "source": [
    "marks = int(input('Enter the marks you got: '))\n",
    "if marks<40:\n",
    "    print('You failed the exam')\n",
    "    print('Hi')\n",
    "else:\n",
    "    print('You passed the exam')\n",
    "print('e')\n",
    "    "
   ]
  },
  {
   "cell_type": "code",
   "execution_count": 4,
   "id": "0edaf4c6",
   "metadata": {},
   "outputs": [
    {
     "name": "stdout",
     "output_type": "stream",
     "text": [
      "Enter the marks you got: 20\n",
      "You failed the exam\n",
      "Hi\n",
      "e\n"
     ]
    }
   ],
   "source": [
    "marks = int(input('Enter the marks you got: '))\n",
    "if marks<40:\n",
    "    print('You failed the exam')\n",
    "    print('Hi')\n",
    "else:\n",
    "    print('You passed the exam')\n",
    "print('e')\n",
    "    "
   ]
  },
  {
   "cell_type": "code",
   "execution_count": 76,
   "id": "a6210531",
   "metadata": {
    "scrolled": true
   },
   "outputs": [
    {
     "name": "stdout",
     "output_type": "stream",
     "text": [
      "Enter the marks you got: 14\n"
     ]
    },
    {
     "ename": "TypeError",
     "evalue": "'<' not supported between instances of 'str' and 'int'",
     "output_type": "error",
     "traceback": [
      "\u001b[1;31m---------------------------------------------------------------------------\u001b[0m",
      "\u001b[1;31mTypeError\u001b[0m                                 Traceback (most recent call last)",
      "\u001b[1;32m~\\AppData\\Local\\Temp\\ipykernel_13764\\1163789198.py\u001b[0m in \u001b[0;36m<module>\u001b[1;34m\u001b[0m\n\u001b[0;32m      1\u001b[0m \u001b[0mmarks\u001b[0m\u001b[1;33m=\u001b[0m \u001b[0minput\u001b[0m\u001b[1;33m(\u001b[0m\u001b[1;34m'Enter the marks you got: '\u001b[0m\u001b[1;33m)\u001b[0m\u001b[1;33m\u001b[0m\u001b[1;33m\u001b[0m\u001b[0m\n\u001b[1;32m----> 2\u001b[1;33m \u001b[1;32mif\u001b[0m \u001b[0mmarks\u001b[0m\u001b[1;33m<\u001b[0m\u001b[1;36m40\u001b[0m\u001b[1;33m:\u001b[0m\u001b[1;33m\u001b[0m\u001b[1;33m\u001b[0m\u001b[0m\n\u001b[0m\u001b[0;32m      3\u001b[0m     \u001b[0mprint\u001b[0m \u001b[1;33m(\u001b[0m\u001b[1;34m'you failed the exam'\u001b[0m\u001b[1;33m)\u001b[0m\u001b[1;33m\u001b[0m\u001b[1;33m\u001b[0m\u001b[0m\n\u001b[0;32m      4\u001b[0m \u001b[1;32melse\u001b[0m\u001b[1;33m:\u001b[0m\u001b[1;33m\u001b[0m\u001b[1;33m\u001b[0m\u001b[0m\n\u001b[0;32m      5\u001b[0m     \u001b[0mprint\u001b[0m\u001b[1;33m(\u001b[0m\u001b[1;34m'you passed the exam'\u001b[0m\u001b[1;33m)\u001b[0m\u001b[1;33m\u001b[0m\u001b[1;33m\u001b[0m\u001b[0m\n",
      "\u001b[1;31mTypeError\u001b[0m: '<' not supported between instances of 'str' and 'int'"
     ]
    }
   ],
   "source": [
    "marks= input('Enter the marks you got: ')     \n",
    "if marks<40:\n",
    "    print ('you failed the exam')\n",
    "else:\n",
    "    print('you passed the exam')\n",
    "print ('e')\n",
    "    "
   ]
  },
  {
   "cell_type": "code",
   "execution_count": 79,
   "id": "5ed9c672",
   "metadata": {},
   "outputs": [
    {
     "ename": "IndentationError",
     "evalue": "expected an indented block (433065812.py, line 3)",
     "output_type": "error",
     "traceback": [
      "\u001b[1;36m  File \u001b[1;32m\"C:\\Users\\Admin\\AppData\\Local\\Temp\\ipykernel_13764\\433065812.py\"\u001b[1;36m, line \u001b[1;32m3\u001b[0m\n\u001b[1;33m    print ('you failed the exam')\u001b[0m\n\u001b[1;37m    ^\u001b[0m\n\u001b[1;31mIndentationError\u001b[0m\u001b[1;31m:\u001b[0m expected an indented block\n"
     ]
    }
   ],
   "source": [
    "marks= input('Enter the marks you got')     \n",
    "if marks < 40:\n",
    "print ('you failed the exam')\n",
    "else:\n",
    "    print('you passed the exam')"
   ]
  },
  {
   "cell_type": "code",
   "execution_count": null,
   "id": "356cf61d",
   "metadata": {},
   "outputs": [],
   "source": [
    " # after collan we have to go to the next line always with tab indentation, remind\n",
    "\n",
    "  # this thing, after collan it should be one tab otherwise it ll give error\n",
    "\n",
    "# else should be always below the IF\n",
    "# between if and else there should be any line then those should be tab inteneded only but after else without tab intended \n",
    "#will work bcz after else if else block is complete"
   ]
  },
  {
   "cell_type": "code",
   "execution_count": null,
   "id": "4e1dd5a9",
   "metadata": {},
   "outputs": [],
   "source": []
  },
  {
   "cell_type": "code",
   "execution_count": 2,
   "id": "fe293229",
   "metadata": {},
   "outputs": [
    {
     "name": "stdout",
     "output_type": "stream",
     "text": [
      "Enter the marks you got: 55\n",
      "You got avg marks\n"
     ]
    }
   ],
   "source": [
    "marks = int(input('Enter the marks you got: '))\n",
    "if marks<40:\n",
    "    print('You failed the exam')\n",
    "elif marks>=40 and marks<=60:\n",
    "    print('You got avg marks')\n",
    "else:\n",
    "    print('You got excellent marks')"
   ]
  },
  {
   "cell_type": "code",
   "execution_count": 1,
   "id": "259dc9fd",
   "metadata": {},
   "outputs": [
    {
     "name": "stdout",
     "output_type": "stream",
     "text": [
      "Enter the marks you got: 50\n"
     ]
    },
    {
     "ename": "TypeError",
     "evalue": "'<' not supported between instances of 'str' and 'int'",
     "output_type": "error",
     "traceback": [
      "\u001b[1;31m---------------------------------------------------------------------------\u001b[0m",
      "\u001b[1;31mTypeError\u001b[0m                                 Traceback (most recent call last)",
      "\u001b[1;32m~\\AppData\\Local\\Temp\\ipykernel_14428\\2151327056.py\u001b[0m in \u001b[0;36m<module>\u001b[1;34m\u001b[0m\n\u001b[0;32m      1\u001b[0m \u001b[0mmarks\u001b[0m \u001b[1;33m=\u001b[0m \u001b[0minput\u001b[0m\u001b[1;33m(\u001b[0m\u001b[1;34m'Enter the marks you got: '\u001b[0m\u001b[1;33m)\u001b[0m\u001b[1;33m\u001b[0m\u001b[1;33m\u001b[0m\u001b[0m\n\u001b[1;32m----> 2\u001b[1;33m \u001b[1;32mif\u001b[0m \u001b[0mmarks\u001b[0m\u001b[1;33m<\u001b[0m\u001b[1;36m40\u001b[0m\u001b[1;33m:\u001b[0m\u001b[1;33m\u001b[0m\u001b[1;33m\u001b[0m\u001b[0m\n\u001b[0m\u001b[0;32m      3\u001b[0m     \u001b[0mprint\u001b[0m\u001b[1;33m(\u001b[0m\u001b[1;34m'You failed the exam'\u001b[0m\u001b[1;33m)\u001b[0m\u001b[1;33m\u001b[0m\u001b[1;33m\u001b[0m\u001b[0m\n\u001b[0;32m      4\u001b[0m \u001b[1;32melif\u001b[0m \u001b[0mmarks\u001b[0m\u001b[1;33m>=\u001b[0m\u001b[1;36m40\u001b[0m \u001b[1;32mand\u001b[0m \u001b[0mmarks\u001b[0m\u001b[1;33m<=\u001b[0m\u001b[1;36m60\u001b[0m\u001b[1;33m:\u001b[0m\u001b[1;33m\u001b[0m\u001b[1;33m\u001b[0m\u001b[0m\n\u001b[0;32m      5\u001b[0m     \u001b[0mprint\u001b[0m\u001b[1;33m(\u001b[0m\u001b[1;34m'You got avg marks'\u001b[0m\u001b[1;33m)\u001b[0m\u001b[1;33m\u001b[0m\u001b[1;33m\u001b[0m\u001b[0m\n",
      "\u001b[1;31mTypeError\u001b[0m: '<' not supported between instances of 'str' and 'int'"
     ]
    }
   ],
   "source": [
    "marks = input('Enter the marks you got: ')\n",
    "if marks<40:                                          \n",
    "    print('You failed the exam')\n",
    "elif marks>=40 and marks<=60:\n",
    "    print('You got avg marks')\n",
    "else:\n",
    "    print('You got excellent marks')"
   ]
  },
  {
   "cell_type": "code",
   "execution_count": null,
   "id": "218d7447",
   "metadata": {},
   "outputs": [],
   "source": [
    "# input will always give the string value 14 is string h\n",
    "#so we have to convert it into iontegerstring h\n",
    " #hum integer de rhe h so ye compare nhi krega"
   ]
  },
  {
   "cell_type": "code",
   "execution_count": 5,
   "id": "8eb8d96c",
   "metadata": {},
   "outputs": [
    {
     "name": "stdout",
     "output_type": "stream",
     "text": [
      "Enter the marks you got: 70\n",
      "You got excellent marks\n"
     ]
    }
   ],
   "source": [
    "marks = int(input('Enter the marks you got: '))\n",
    "if marks<40:\n",
    "    print('You failed the exam')\n",
    "elif marks>=40 and marks<=60:\n",
    "    print('You got avg marks')\n",
    "else:\n",
    "    print('You got excellent marks')"
   ]
  },
  {
   "cell_type": "code",
   "execution_count": 6,
   "id": "dc78384f",
   "metadata": {
    "scrolled": true
   },
   "outputs": [
    {
     "ename": "SyntaxError",
     "evalue": "invalid syntax (474203623.py, line 4)",
     "output_type": "error",
     "traceback": [
      "\u001b[1;36m  File \u001b[1;32m\"C:\\Users\\Admin\\AppData\\Local\\Temp\\ipykernel_14428\\474203623.py\"\u001b[1;36m, line \u001b[1;32m4\u001b[0m\n\u001b[1;33m    else marks>=40 and marks<=60:\u001b[0m\n\u001b[1;37m         ^\u001b[0m\n\u001b[1;31mSyntaxError\u001b[0m\u001b[1;31m:\u001b[0m invalid syntax\n"
     ]
    }
   ],
   "source": [
    "marks = int(input('Enter the marks you got: '))\n",
    "if marks<40:\n",
    "    print('You failed the exam')\n",
    "else marks>=40 and marks<=60:\n",
    "    print('You got avg marks')\n",
    "else:\n",
    "    print('You got excellent marks')"
   ]
  },
  {
   "cell_type": "code",
   "execution_count": 7,
   "id": "17350f08",
   "metadata": {},
   "outputs": [
    {
     "name": "stdout",
     "output_type": "stream",
     "text": [
      "Enter the marks you got: 70\n"
     ]
    }
   ],
   "source": [
    "marks = int(input('Enter the marks you got: '))            # 70 ke liye koi condition nhi dali h so marks hi a rhe h \n",
    "if marks<40:\n",
    "    print('You failed the exam')\n",
    "elif marks>=40 and marks<=60:\n",
    "    print('You got avg marks')"
   ]
  }
 ],
 "metadata": {
  "kernelspec": {
   "display_name": "Python 3 (ipykernel)",
   "language": "python",
   "name": "python3"
  },
  "language_info": {
   "codemirror_mode": {
    "name": "ipython",
    "version": 3
   },
   "file_extension": ".py",
   "mimetype": "text/x-python",
   "name": "python",
   "nbconvert_exporter": "python",
   "pygments_lexer": "ipython3",
   "version": "3.9.13"
  }
 },
 "nbformat": 4,
 "nbformat_minor": 5
}
