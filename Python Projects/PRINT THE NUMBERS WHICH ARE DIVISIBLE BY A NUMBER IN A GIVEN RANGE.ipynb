{
 "cells": [
  {
   "cell_type": "markdown",
   "id": "6080f96d",
   "metadata": {},
   "source": [
    "# Python Program to Print All Numbers in a Range Divisible by a Given Number"
   ]
  },
  {
   "cell_type": "code",
   "execution_count": 1,
   "id": "6bb98d73",
   "metadata": {},
   "outputs": [
    {
     "name": "stdout",
     "output_type": "stream",
     "text": [
      "enter the lower number:5\n",
      "enter the upper number:30\n",
      "enter the given number:4\n",
      "8\n",
      "12\n",
      "16\n",
      "20\n",
      "24\n",
      "28\n"
     ]
    }
   ],
   "source": [
    "n1=int(input(\"enter the lower number:\"))\n",
    "n2=int(input(\"enter the upper number:\"))\n",
    "n3=int(input(\"enter the given number:\"))\n",
    "for i in range (n1, n2+1):\n",
    "    \n",
    "    \n",
    "    if i%n3==0:\n",
    "        print(i)"
   ]
  }
 ],
 "metadata": {
  "kernelspec": {
   "display_name": "Python 3 (ipykernel)",
   "language": "python",
   "name": "python3"
  },
  "language_info": {
   "codemirror_mode": {
    "name": "ipython",
    "version": 3
   },
   "file_extension": ".py",
   "mimetype": "text/x-python",
   "name": "python",
   "nbconvert_exporter": "python",
   "pygments_lexer": "ipython3",
   "version": "3.9.13"
  }
 },
 "nbformat": 4,
 "nbformat_minor": 5
}
