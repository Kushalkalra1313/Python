{
 "cells": [
  {
   "cell_type": "markdown",
   "id": "e7e90900",
   "metadata": {},
   "source": [
    "# To print characters present In string Index wise:"
   ]
  },
  {
   "cell_type": "code",
   "execution_count": 22,
   "id": "5b297c23",
   "metadata": {
    "scrolled": true
   },
   "outputs": [
    {
     "name": "stdout",
     "output_type": "stream",
     "text": [
      "Enter some String:ram\n",
      "The character present at index i is: r\n",
      "The character present at index i is: a\n",
      "The character present at index i is: m\n"
     ]
    }
   ],
   "source": [
    "s=input(\"Enter some String:\")\n",
    "i=0\n",
    "for x in s:\n",
    "    \n",
    "    \n",
    "    print(\"The character present at index i is:\" ,x)\n",
    "    i=i+1\n"
   ]
  }
 ],
 "metadata": {
  "kernelspec": {
   "display_name": "Python 3 (ipykernel)",
   "language": "python",
   "name": "python3"
  },
  "language_info": {
   "codemirror_mode": {
    "name": "ipython",
    "version": 3
   },
   "file_extension": ".py",
   "mimetype": "text/x-python",
   "name": "python",
   "nbconvert_exporter": "python",
   "pygments_lexer": "ipython3",
   "version": "3.9.13"
  }
 },
 "nbformat": 4,
 "nbformat_minor": 5
}
