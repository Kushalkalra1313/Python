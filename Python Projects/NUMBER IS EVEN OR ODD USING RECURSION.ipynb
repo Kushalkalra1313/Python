{
 "cells": [
  {
   "cell_type": "markdown",
   "id": "1326cce4",
   "metadata": {},
   "source": [
    "# Python Program to Check Whether a Given Number is Even or Odd using Recursion"
   ]
  },
  {
   "cell_type": "code",
   "execution_count": 1,
   "id": "6ffa18d6",
   "metadata": {},
   "outputs": [
    {
     "name": "stdout",
     "output_type": "stream",
     "text": [
      "Enter number:23\n",
      "Number is odd!\n"
     ]
    }
   ],
   "source": [
    "def check(n):\n",
    "    if (n < 2):\n",
    "        return (n % 2 == 0)\n",
    "    return (check(n - 2))\n",
    "n=int(input(\"Enter number:\"))\n",
    "if(check(n)==True):\n",
    "      print(\"Number is even!\")\n",
    "else:\n",
    "      print(\"Number is odd!\")"
   ]
  },
  {
   "cell_type": "code",
   "execution_count": null,
   "id": "d3a21e24",
   "metadata": {},
   "outputs": [],
   "source": []
  }
 ],
 "metadata": {
  "kernelspec": {
   "display_name": "Python 3 (ipykernel)",
   "language": "python",
   "name": "python3"
  },
  "language_info": {
   "codemirror_mode": {
    "name": "ipython",
    "version": 3
   },
   "file_extension": ".py",
   "mimetype": "text/x-python",
   "name": "python",
   "nbconvert_exporter": "python",
   "pygments_lexer": "ipython3",
   "version": "3.9.13"
  }
 },
 "nbformat": 4,
 "nbformat_minor": 5
}
