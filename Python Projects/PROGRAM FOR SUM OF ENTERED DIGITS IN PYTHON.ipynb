{
 "cells": [
  {
   "cell_type": "markdown",
   "id": "a75fcae3",
   "metadata": {},
   "source": [
    "# Write a Program for Sum of Entered Digits in Python"
   ]
  },
  {
   "cell_type": "code",
   "execution_count": 4,
   "id": "5d7a3ddc",
   "metadata": {},
   "outputs": [
    {
     "name": "stdout",
     "output_type": "stream",
     "text": [
      "Enter a number:27\n",
      "The total sum of digits is: 9\n"
     ]
    }
   ],
   "source": [
    "n=int(input(\"Enter a number:\"))\n",
    "tot=0\n",
    "while(n>0):\n",
    "    dig=n%10\n",
    "    tot=tot+dig\n",
    "    n=n//10\n",
    "print(\"The total sum of digits is:\",tot)"
   ]
  }
 ],
 "metadata": {
  "kernelspec": {
   "display_name": "Python 3 (ipykernel)",
   "language": "python",
   "name": "python3"
  },
  "language_info": {
   "codemirror_mode": {
    "name": "ipython",
    "version": 3
   },
   "file_extension": ".py",
   "mimetype": "text/x-python",
   "name": "python",
   "nbconvert_exporter": "python",
   "pygments_lexer": "ipython3",
   "version": "3.9.13"
  }
 },
 "nbformat": 4,
 "nbformat_minor": 5
}
