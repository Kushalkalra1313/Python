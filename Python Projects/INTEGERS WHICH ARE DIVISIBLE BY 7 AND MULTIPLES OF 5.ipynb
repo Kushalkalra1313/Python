{
 "cells": [
  {
   "cell_type": "markdown",
   "id": "fc676b3e",
   "metadata": {},
   "source": [
    "# Python Program to Find Numbers which are Divisible by 7 and Multiple of 5 in a Given Range"
   ]
  },
  {
   "cell_type": "code",
   "execution_count": 1,
   "id": "b45a6363",
   "metadata": {},
   "outputs": [
    {
     "name": "stdout",
     "output_type": "stream",
     "text": [
      "enter the lower number:5\n",
      "enter the upper number:50\n",
      "35\n"
     ]
    }
   ],
   "source": [
    "n1=int(input(\"enter the lower number:\"))\n",
    "n2=int(input(\"enter the upper number:\"))\n",
    "for i in range (n1, n2+1):\n",
    "    \n",
    "    \n",
    "    if i%7==0 and i%5==0:\n",
    "        print(i)"
   ]
  }
 ],
 "metadata": {
  "kernelspec": {
   "display_name": "Python 3 (ipykernel)",
   "language": "python",
   "name": "python3"
  },
  "language_info": {
   "codemirror_mode": {
    "name": "ipython",
    "version": 3
   },
   "file_extension": ".py",
   "mimetype": "text/x-python",
   "name": "python",
   "nbconvert_exporter": "python",
   "pygments_lexer": "ipython3",
   "version": "3.9.13"
  }
 },
 "nbformat": 4,
 "nbformat_minor": 5
}
