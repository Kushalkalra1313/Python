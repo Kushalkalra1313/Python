{
 "cells": [
  {
   "cell_type": "markdown",
   "id": "56f83c38",
   "metadata": {},
   "source": [
    "# Sum of Digit of a Number Without Recursion in Python"
   ]
  },
  {
   "cell_type": "code",
   "execution_count": 9,
   "id": "87179daa",
   "metadata": {},
   "outputs": [
    {
     "name": "stdout",
     "output_type": "stream",
     "text": [
      "Enter a number: 34\n",
      "Sum is:\n",
      "7\n"
     ]
    }
   ],
   "source": [
    "l=[]\n",
    "b=int(input(\"Enter a number: \"))\n",
    "while(b>0):\n",
    "    dig=b%10\n",
    "    l.append(dig)\n",
    "    b=b//10\n",
    "print(\"Sum is:\")\n",
    "print(sum(l))"
   ]
  }
 ],
 "metadata": {
  "kernelspec": {
   "display_name": "Python 3 (ipykernel)",
   "language": "python",
   "name": "python3"
  },
  "language_info": {
   "codemirror_mode": {
    "name": "ipython",
    "version": 3
   },
   "file_extension": ".py",
   "mimetype": "text/x-python",
   "name": "python",
   "nbconvert_exporter": "python",
   "pygments_lexer": "ipython3",
   "version": "3.9.13"
  }
 },
 "nbformat": 4,
 "nbformat_minor": 5
}
