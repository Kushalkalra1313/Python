{
 "cells": [
  {
   "cell_type": "markdown",
   "id": "53f22177",
   "metadata": {},
   "source": [
    "# 5 NUMBERS OF COUPON DISTRIBUTION USING WHILE"
   ]
  },
  {
   "cell_type": "code",
   "execution_count": 2,
   "id": "9d79f781",
   "metadata": {},
   "outputs": [
    {
     "name": "stdout",
     "output_type": "stream",
     "text": [
      "The total coupouns left are 5\n",
      "The total coupouns left are 4\n",
      "The total coupouns left are 3\n",
      "The total coupouns left are 2\n",
      "The total coupouns left are 1\n",
      "No coupouns left\n"
     ]
    }
   ],
   "source": [
    "coupon = 5 \n",
    "utilized = 0 \n",
    "while utilized<coupon:\n",
    "    print('The total coupouns left are', coupon-utilized)\n",
    "    utilized=utilized+1\n",
    "print('No coupouns left')"
   ]
  }
 ],
 "metadata": {
  "kernelspec": {
   "display_name": "Python 3 (ipykernel)",
   "language": "python",
   "name": "python3"
  },
  "language_info": {
   "codemirror_mode": {
    "name": "ipython",
    "version": 3
   },
   "file_extension": ".py",
   "mimetype": "text/x-python",
   "name": "python",
   "nbconvert_exporter": "python",
   "pygments_lexer": "ipython3",
   "version": "3.9.13"
  }
 },
 "nbformat": 4,
 "nbformat_minor": 5
}
