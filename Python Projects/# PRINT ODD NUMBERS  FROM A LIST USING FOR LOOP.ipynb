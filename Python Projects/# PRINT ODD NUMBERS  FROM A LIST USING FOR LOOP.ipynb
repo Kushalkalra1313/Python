{
 "cells": [
  {
   "cell_type": "markdown",
   "id": "06c0a901",
   "metadata": {},
   "source": [
    "# PRINT ODD NUMBERS  FROM A LIST USING FOR LOOP"
   ]
  },
  {
   "cell_type": "code",
   "execution_count": 1,
   "id": "e498b5d0",
   "metadata": {},
   "outputs": [
    {
     "name": "stdout",
     "output_type": "stream",
     "text": [
      "45 33 23 11 "
     ]
    }
   ],
   "source": [
    "list1 = [32,45,44,33,23,22,11,22]\n",
    "for i in list1:\n",
    "    \n",
    " \n",
    "    # checking condition\n",
    "    if i % 2 != 0:\n",
    "        \n",
    "        \n",
    "        print(i,end=\" \")"
   ]
  }
 ],
 "metadata": {
  "kernelspec": {
   "display_name": "Python 3 (ipykernel)",
   "language": "python",
   "name": "python3"
  },
  "language_info": {
   "codemirror_mode": {
    "name": "ipython",
    "version": 3
   },
   "file_extension": ".py",
   "mimetype": "text/x-python",
   "name": "python",
   "nbconvert_exporter": "python",
   "pygments_lexer": "ipython3",
   "version": "3.9.13"
  }
 },
 "nbformat": 4,
 "nbformat_minor": 5
}
