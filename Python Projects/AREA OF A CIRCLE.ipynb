{
 "cells": [
  {
   "cell_type": "markdown",
   "id": "18365486",
   "metadata": {},
   "source": [
    "# Write a Python Program to find Area of Circle"
   ]
  },
  {
   "cell_type": "code",
   "execution_count": 3,
   "id": "b39f22c4",
   "metadata": {},
   "outputs": [
    {
     "name": "stdout",
     "output_type": "stream",
     "text": [
      "Area of Circle is : 804.247719318987\n"
     ]
    }
   ],
   "source": [
    "from math import pi\n",
    "r = 16\n",
    "print(\"Area of Circle is :\" ,pi*r**2)"
   ]
  }
 ],
 "metadata": {
  "kernelspec": {
   "display_name": "Python 3 (ipykernel)",
   "language": "python",
   "name": "python3"
  },
  "language_info": {
   "codemirror_mode": {
    "name": "ipython",
    "version": 3
   },
   "file_extension": ".py",
   "mimetype": "text/x-python",
   "name": "python",
   "nbconvert_exporter": "python",
   "pygments_lexer": "ipython3",
   "version": "3.9.13"
  }
 },
 "nbformat": 4,
 "nbformat_minor": 5
}
