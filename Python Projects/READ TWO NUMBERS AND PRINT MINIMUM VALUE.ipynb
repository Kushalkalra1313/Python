{
 "cells": [
  {
   "cell_type": "markdown",
   "id": "81a43062",
   "metadata": {},
   "source": [
    "# Read two numbers from the keyboard and print minimum value"
   ]
  },
  {
   "cell_type": "code",
   "execution_count": 7,
   "id": "f9e5a92a",
   "metadata": {},
   "outputs": [
    {
     "name": "stdout",
     "output_type": "stream",
     "text": [
      "Enter First Number:7\n",
      "Enter Second Number:9\n",
      "Minimum Value: 7\n"
     ]
    }
   ],
   "source": [
    "a=int(input('Enter First Number:' ))\n",
    "b=int(input('Enter Second Number:'))\n",
    "x=a if a<b else b\n",
    "print(\"Minimum Value:\" ,x)"
   ]
  },
  {
   "cell_type": "code",
   "execution_count": null,
   "id": "00367dcb",
   "metadata": {},
   "outputs": [],
   "source": []
  }
 ],
 "metadata": {
  "kernelspec": {
   "display_name": "Python 3 (ipykernel)",
   "language": "python",
   "name": "python3"
  },
  "language_info": {
   "codemirror_mode": {
    "name": "ipython",
    "version": 3
   },
   "file_extension": ".py",
   "mimetype": "text/x-python",
   "name": "python",
   "nbconvert_exporter": "python",
   "pygments_lexer": "ipython3",
   "version": "3.9.13"
  }
 },
 "nbformat": 4,
 "nbformat_minor": 5
}
