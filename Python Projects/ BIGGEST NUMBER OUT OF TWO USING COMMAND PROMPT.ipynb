{
 "cells": [
  {
   "cell_type": "markdown",
   "id": "fedd0f1e",
   "metadata": {},
   "source": [
    "# Write a Program to find Biggest of given 2 Numbers f rom the Command Prompt.\n",
    "\n"
   ]
  },
  {
   "cell_type": "code",
   "execution_count": 6,
   "id": "f5de9860",
   "metadata": {},
   "outputs": [
    {
     "name": "stdout",
     "output_type": "stream",
     "text": [
      " Enter first Number:5\n",
      " Enter Second Number:7\n",
      "Biggest Number is: 7\n"
     ]
    }
   ],
   "source": [
    "\n",
    "n1 =int(input(\" Enter first Number:\"))\n",
    "n2=int(input(\" Enter Second Number:\"))\n",
    "if n1>n2:\n",
    "    \n",
    "    print(\"Biggest Number is:\",n1)\n",
    "else :\n",
    "    print(\"Biggest Number is:\",n2)"
   ]
  }
 ],
 "metadata": {
  "kernelspec": {
   "display_name": "Python 3 (ipykernel)",
   "language": "python",
   "name": "python3"
  },
  "language_info": {
   "codemirror_mode": {
    "name": "ipython",
    "version": 3
   },
   "file_extension": ".py",
   "mimetype": "text/x-python",
   "name": "python",
   "nbconvert_exporter": "python",
   "pygments_lexer": "ipython3",
   "version": "3.9.13"
  }
 },
 "nbformat": 4,
 "nbformat_minor": 5
}
