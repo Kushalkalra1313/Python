{
 "cells": [
  {
   "cell_type": "markdown",
   "id": "51890abb",
   "metadata": {},
   "source": [
    "# To print sum of numbers present inside List"
   ]
  },
  {
   "cell_type": "code",
   "execution_count": 1,
   "id": "a04722a1",
   "metadata": {},
   "outputs": [
    {
     "name": "stdout",
     "output_type": "stream",
     "text": [
      "Enter List:20,30,40,50\n",
      "The Sum= 140\n"
     ]
    }
   ],
   "source": [
    "list= eval(input(\"Enter List:\" ))\n",
    "sum=0\n",
    "for x in list:\n",
    "    sum=sum+x\n",
    "print(\"The Sum=\",sum)"
   ]
  }
 ],
 "metadata": {
  "kernelspec": {
   "display_name": "Python 3 (ipykernel)",
   "language": "python",
   "name": "python3"
  },
  "language_info": {
   "codemirror_mode": {
    "name": "ipython",
    "version": 3
   },
   "file_extension": ".py",
   "mimetype": "text/x-python",
   "name": "python",
   "nbconvert_exporter": "python",
   "pygments_lexer": "ipython3",
   "version": "3.9.13"
  }
 },
 "nbformat": 4,
 "nbformat_minor": 5
}
