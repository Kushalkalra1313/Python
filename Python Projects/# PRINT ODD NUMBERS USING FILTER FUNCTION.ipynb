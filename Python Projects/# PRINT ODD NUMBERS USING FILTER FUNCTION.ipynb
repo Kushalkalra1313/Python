{
 "cells": [
  {
   "cell_type": "markdown",
   "id": "69bcc920",
   "metadata": {},
   "source": [
    "# PRINT ODD NUMBERS USING FILTER FUNCTION"
   ]
  },
  {
   "cell_type": "code",
   "execution_count": 17,
   "id": "f5b42745",
   "metadata": {},
   "outputs": [
    {
     "data": {
      "text/plain": [
       "[32, 44, 22, 22]"
      ]
     },
     "execution_count": 17,
     "metadata": {},
     "output_type": "execute_result"
    }
   ],
   "source": [
    "list1 = [32,45,44,33,23,22,11,22]\n",
    "def iseven(x):\n",
    "    if x%2==0:\n",
    "        return True\n",
    "    else:\n",
    "        return False\n",
    "list(filter(iseven, list1))"
   ]
  }
 ],
 "metadata": {
  "kernelspec": {
   "display_name": "Python 3 (ipykernel)",
   "language": "python",
   "name": "python3"
  },
  "language_info": {
   "codemirror_mode": {
    "name": "ipython",
    "version": 3
   },
   "file_extension": ".py",
   "mimetype": "text/x-python",
   "name": "python",
   "nbconvert_exporter": "python",
   "pygments_lexer": "ipython3",
   "version": "3.9.13"
  }
 },
 "nbformat": 4,
 "nbformat_minor": 5
}
