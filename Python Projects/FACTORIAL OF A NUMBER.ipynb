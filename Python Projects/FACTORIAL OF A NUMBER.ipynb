{
 "cells": [
  {
   "cell_type": "markdown",
   "id": "d431aadc",
   "metadata": {},
   "source": [
    "# FACTORIAL OF A NUMBER"
   ]
  },
  {
   "cell_type": "code",
   "execution_count": 16,
   "id": "f6baaff5",
   "metadata": {},
   "outputs": [
    {
     "name": "stdout",
     "output_type": "stream",
     "text": [
      "Enter the number: 5\n",
      "120\n"
     ]
    }
   ],
   "source": [
    "number = int(input('Enter the number: '))\n",
    "result = 1\n",
    "\n",
    "if number<0:\n",
    "    print('There is no factorial of a number')\n",
    "else:\n",
    "    while number>=1:\n",
    "        result = result*number\n",
    "        number=number-1\n",
    "    print(result)  "
   ]
  },
  {
   "cell_type": "code",
   "execution_count": null,
   "id": "d3fad273",
   "metadata": {},
   "outputs": [],
   "source": []
  }
 ],
 "metadata": {
  "kernelspec": {
   "display_name": "Python 3 (ipykernel)",
   "language": "python",
   "name": "python3"
  },
  "language_info": {
   "codemirror_mode": {
    "name": "ipython",
    "version": 3
   },
   "file_extension": ".py",
   "mimetype": "text/x-python",
   "name": "python",
   "nbconvert_exporter": "python",
   "pygments_lexer": "ipython3",
   "version": "3.9.13"
  }
 },
 "nbformat": 4,
 "nbformat_minor": 5
}
