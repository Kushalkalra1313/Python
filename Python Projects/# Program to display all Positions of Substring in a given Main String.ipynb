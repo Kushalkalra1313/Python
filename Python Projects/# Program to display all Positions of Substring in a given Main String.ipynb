{
 "cells": [
  {
   "cell_type": "markdown",
   "id": "86314004",
   "metadata": {},
   "source": [
    "# Program to display all Positions of Substring in a given Main String\n"
   ]
  },
  {
   "cell_type": "code",
   "execution_count": 3,
   "id": "f565ec79",
   "metadata": {},
   "outputs": [
    {
     "name": "stdout",
     "output_type": "stream",
     "text": [
      "Enter main string:waheguru\n",
      "Enter sub string:g\n",
      "Found at index:  4\n"
     ]
    }
   ],
   "source": [
    "s=input( \"Enter main string:\")\n",
    "subs=input(\"Enter sub string:\")\n",
    "flag = 'False' \n",
    "pos = -1\n",
    "n = len(s)\n",
    "while True:\n",
    "    pos = s.find(subs, pos+1, n)\n",
    "    if pos==-1:\n",
    "        break\n",
    "    print('Found at index: ', pos)\n",
    "    flag = 'True'\n",
    "if flag == 'False':\n",
    "    print('Not Found')"
   ]
  }
 ],
 "metadata": {
  "kernelspec": {
   "display_name": "Python 3 (ipykernel)",
   "language": "python",
   "name": "python3"
  },
  "language_info": {
   "codemirror_mode": {
    "name": "ipython",
    "version": 3
   },
   "file_extension": ".py",
   "mimetype": "text/x-python",
   "name": "python",
   "nbconvert_exporter": "python",
   "pygments_lexer": "ipython3",
   "version": "3.9.13"
  }
 },
 "nbformat": 4,
 "nbformat_minor": 5
}
