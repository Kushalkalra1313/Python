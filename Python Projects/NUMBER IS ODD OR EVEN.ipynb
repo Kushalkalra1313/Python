{
 "cells": [
  {
   "cell_type": "markdown",
   "id": "7d413b73",
   "metadata": {},
   "source": [
    "# NUMBER IS ODD OR EVEN"
   ]
  },
  {
   "cell_type": "code",
   "execution_count": 4,
   "id": "9204404b",
   "metadata": {},
   "outputs": [
    {
     "name": "stdout",
     "output_type": "stream",
     "text": [
      "enter the lower number:64\n",
      "The no is even:\n"
     ]
    }
   ],
   "source": [
    "n1=int(input(\"enter the lower number:\"))\n",
    "if n1%2!=0:\n",
    "    print(\"The no is odd:\")\n",
    "        \n",
    "    \n",
    "else:\n",
    "    print(\"The no is even:\")"
   ]
  }
 ],
 "metadata": {
  "kernelspec": {
   "display_name": "Python 3 (ipykernel)",
   "language": "python",
   "name": "python3"
  },
  "language_info": {
   "codemirror_mode": {
    "name": "ipython",
    "version": 3
   },
   "file_extension": ".py",
   "mimetype": "text/x-python",
   "name": "python",
   "nbconvert_exporter": "python",
   "pygments_lexer": "ipython3",
   "version": "3.9.13"
  }
 },
 "nbformat": 4,
 "nbformat_minor": 5
}
