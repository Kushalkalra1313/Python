{
 "cells": [
  {
   "cell_type": "markdown",
   "id": "be24a00d",
   "metadata": {},
   "source": [
    "# Python Program to Print All Integers that Aren’t Divisible by Either 2 or 3"
   ]
  },
  {
   "cell_type": "code",
   "execution_count": 7,
   "id": "dc2765a2",
   "metadata": {},
   "outputs": [
    {
     "name": "stdout",
     "output_type": "stream",
     "text": [
      "enter the lower number:4\n",
      "enter the upper number:20\n",
      "The required nos are:\n",
      "5\n",
      "7\n",
      "11\n",
      "13\n",
      "17\n",
      "19\n"
     ]
    }
   ],
   "source": [
    "n1=int(input(\"enter the lower number:\"))\n",
    "n2=int(input(\"enter the upper number:\"))\n",
    "print(\"The required nos are:\")\n",
    "for i in range (n1, n2+1):\n",
    "    if (i%2!=0 and i%3!=0):\n",
    "        \n",
    "        print(i)"
   ]
  }
 ],
 "metadata": {
  "kernelspec": {
   "display_name": "Python 3 (ipykernel)",
   "language": "python",
   "name": "python3"
  },
  "language_info": {
   "codemirror_mode": {
    "name": "ipython",
    "version": 3
   },
   "file_extension": ".py",
   "mimetype": "text/x-python",
   "name": "python",
   "nbconvert_exporter": "python",
   "pygments_lexer": "ipython3",
   "version": "3.9.13"
  }
 },
 "nbformat": 4,
 "nbformat_minor": 5
}
