{
 "cells": [
  {
   "cell_type": "markdown",
   "id": "bd479e2a",
   "metadata": {},
   "source": [
    "# FUNCTION TO CALCULATE THE FACTORIL OF A NUMBER"
   ]
  },
  {
   "cell_type": "code",
   "execution_count": 1,
   "id": "dceccfa4",
   "metadata": {},
   "outputs": [],
   "source": [
    "def factorial(number):\n",
    "    result = 1\n",
    "\n",
    "    if number<0:\n",
    "        print('There is no factorial of a number')\n",
    "    else:\n",
    "        while number>=1:\n",
    "            result = result*number\n",
    "            number=number-1\n",
    "        print(result)"
   ]
  },
  {
   "cell_type": "code",
   "execution_count": 3,
   "id": "639d4d18",
   "metadata": {},
   "outputs": [
    {
     "name": "stdout",
     "output_type": "stream",
     "text": [
      "720\n"
     ]
    }
   ],
   "source": [
    "factorial(6)"
   ]
  }
 ],
 "metadata": {
  "kernelspec": {
   "display_name": "Python 3 (ipykernel)",
   "language": "python",
   "name": "python3"
  },
  "language_info": {
   "codemirror_mode": {
    "name": "ipython",
    "version": 3
   },
   "file_extension": ".py",
   "mimetype": "text/x-python",
   "name": "python",
   "nbconvert_exporter": "python",
   "pygments_lexer": "ipython3",
   "version": "3.9.13"
  }
 },
 "nbformat": 4,
 "nbformat_minor": 5
}
