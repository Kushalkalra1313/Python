{
 "cells": [
  {
   "cell_type": "markdown",
   "id": "7d62aa0a",
   "metadata": {},
   "source": [
    "# Program for Maximum of 3 Numbers"
   ]
  },
  {
   "cell_type": "code",
   "execution_count": 1,
   "id": "0f9695d5",
   "metadata": {},
   "outputs": [
    {
     "name": "stdout",
     "output_type": "stream",
     "text": [
      "Enter First Number:10\n",
      "Enter Second Number:9\n",
      "EnterThird Number:8\n",
      "Minimum Value: 10\n"
     ]
    }
   ],
   "source": [
    "a=int(input(\"Enter First Number:\"))\n",
    "b=int(input(\"Enter Second Number:\" ))\n",
    "c=int(input(\"EnterThird Number:\"))\n",
    "min=a if a>b and a>c else b if b>c else c\n",
    "print(\"Minimum Value:\" ,min)"
   ]
  }
 ],
 "metadata": {
  "kernelspec": {
   "display_name": "Python 3 (ipykernel)",
   "language": "python",
   "name": "python3"
  },
  "language_info": {
   "codemirror_mode": {
    "name": "ipython",
    "version": 3
   },
   "file_extension": ".py",
   "mimetype": "text/x-python",
   "name": "python",
   "nbconvert_exporter": "python",
   "pygments_lexer": "ipython3",
   "version": "3.9.13"
  }
 },
 "nbformat": 4,
 "nbformat_minor": 5
}
