{
 "cells": [
  {
   "cell_type": "markdown",
   "id": "226c75e0",
   "metadata": {},
   "source": [
    "# Write a Function to check whether the given Number is Even or Odd?"
   ]
  },
  {
   "cell_type": "code",
   "execution_count": null,
   "id": "a5271d3c",
   "metadata": {},
   "outputs": [],
   "source": [
    "def even_odd(num):\n",
    "    \n",
    "        \n",
    "    if num%2==0:\n",
    "        \n",
    "        print(num, \"is Even Number\")\n",
    "    else :\n",
    "        print(num, \"is Odd Number\")"
   ]
  },
  {
   "cell_type": "code",
   "execution_count": 6,
   "id": "bef254ea",
   "metadata": {},
   "outputs": [
    {
     "name": "stdout",
     "output_type": "stream",
     "text": [
      "10 is Even Number\n"
     ]
    }
   ],
   "source": [
    "even_odd(10)"
   ]
  },
  {
   "cell_type": "code",
   "execution_count": 7,
   "id": "95db2ac5",
   "metadata": {},
   "outputs": [
    {
     "name": "stdout",
     "output_type": "stream",
     "text": [
      "15 is Odd Number\n"
     ]
    }
   ],
   "source": [
    "even_odd(15)"
   ]
  }
 ],
 "metadata": {
  "kernelspec": {
   "display_name": "Python 3 (ipykernel)",
   "language": "python",
   "name": "python3"
  },
  "language_info": {
   "codemirror_mode": {
    "name": "ipython",
    "version": 3
   },
   "file_extension": ".py",
   "mimetype": "text/x-python",
   "name": "python",
   "nbconvert_exporter": "python",
   "pygments_lexer": "ipython3",
   "version": "3.9.13"
  }
 },
 "nbformat": 4,
 "nbformat_minor": 5
}
